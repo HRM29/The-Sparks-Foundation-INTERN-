{
 "cells": [
  {
   "cell_type": "markdown",
   "metadata": {
    "id": "WsV19wM6pOCr"
   },
   "source": [
    "### Oraganization: GRIP The Sparks Foundation\n",
    "### Name: Harshit Mathur\n",
    "### Designation: Data Science and Business Analytics INTERN  \n",
    "### #GRIPMAY21\n",
    "### Task 2: Prediction using Unsupervised ML\n",
    "## About Task :\n",
    "### From the given ‘Iris’ dataset, predict the optimum number of  clusters and represent it visually."
   ]
  },
  {
   "cell_type": "code",
   "execution_count": 81,
   "metadata": {
    "id": "2GTT--HWnAM2"
   },
   "outputs": [],
   "source": [
    "# Importing Libraries\n",
    "import pandas as pd\n",
    "import numpy as np\n",
    "import matplotlib.pyplot as plt\n",
    "from sklearn import datasets\n",
    "import seaborn as sns\n",
    "from sklearn.cluster import KMeans\n"
   ]
  },
  {
   "cell_type": "code",
   "execution_count": 82,
   "metadata": {
    "colab": {
     "base_uri": "https://localhost:8080/",
     "height": 424
    },
    "id": "_ody52OxnGJx",
    "outputId": "0a886fda-036c-49a3-88b8-af85b3e3b90f"
   },
   "outputs": [
    {
     "data": {
      "text/html": [
       "<div>\n",
       "<style scoped>\n",
       "    .dataframe tbody tr th:only-of-type {\n",
       "        vertical-align: middle;\n",
       "    }\n",
       "\n",
       "    .dataframe tbody tr th {\n",
       "        vertical-align: top;\n",
       "    }\n",
       "\n",
       "    .dataframe thead th {\n",
       "        text-align: right;\n",
       "    }\n",
       "</style>\n",
       "<table border=\"1\" class=\"dataframe\">\n",
       "  <thead>\n",
       "    <tr style=\"text-align: right;\">\n",
       "      <th></th>\n",
       "      <th>Id</th>\n",
       "      <th>SepalLengthCm</th>\n",
       "      <th>SepalWidthCm</th>\n",
       "      <th>PetalLengthCm</th>\n",
       "      <th>PetalWidthCm</th>\n",
       "      <th>Species</th>\n",
       "    </tr>\n",
       "  </thead>\n",
       "  <tbody>\n",
       "    <tr>\n",
       "      <th>0</th>\n",
       "      <td>1</td>\n",
       "      <td>5.1</td>\n",
       "      <td>3.5</td>\n",
       "      <td>1.4</td>\n",
       "      <td>0.2</td>\n",
       "      <td>Iris-setosa</td>\n",
       "    </tr>\n",
       "    <tr>\n",
       "      <th>1</th>\n",
       "      <td>2</td>\n",
       "      <td>4.9</td>\n",
       "      <td>3.0</td>\n",
       "      <td>1.4</td>\n",
       "      <td>0.2</td>\n",
       "      <td>Iris-setosa</td>\n",
       "    </tr>\n",
       "    <tr>\n",
       "      <th>2</th>\n",
       "      <td>3</td>\n",
       "      <td>4.7</td>\n",
       "      <td>3.2</td>\n",
       "      <td>1.3</td>\n",
       "      <td>0.2</td>\n",
       "      <td>Iris-setosa</td>\n",
       "    </tr>\n",
       "    <tr>\n",
       "      <th>3</th>\n",
       "      <td>4</td>\n",
       "      <td>4.6</td>\n",
       "      <td>3.1</td>\n",
       "      <td>1.5</td>\n",
       "      <td>0.2</td>\n",
       "      <td>Iris-setosa</td>\n",
       "    </tr>\n",
       "    <tr>\n",
       "      <th>4</th>\n",
       "      <td>5</td>\n",
       "      <td>5.0</td>\n",
       "      <td>3.6</td>\n",
       "      <td>1.4</td>\n",
       "      <td>0.2</td>\n",
       "      <td>Iris-setosa</td>\n",
       "    </tr>\n",
       "    <tr>\n",
       "      <th>...</th>\n",
       "      <td>...</td>\n",
       "      <td>...</td>\n",
       "      <td>...</td>\n",
       "      <td>...</td>\n",
       "      <td>...</td>\n",
       "      <td>...</td>\n",
       "    </tr>\n",
       "    <tr>\n",
       "      <th>145</th>\n",
       "      <td>146</td>\n",
       "      <td>6.7</td>\n",
       "      <td>3.0</td>\n",
       "      <td>5.2</td>\n",
       "      <td>2.3</td>\n",
       "      <td>Iris-virginica</td>\n",
       "    </tr>\n",
       "    <tr>\n",
       "      <th>146</th>\n",
       "      <td>147</td>\n",
       "      <td>6.3</td>\n",
       "      <td>2.5</td>\n",
       "      <td>5.0</td>\n",
       "      <td>1.9</td>\n",
       "      <td>Iris-virginica</td>\n",
       "    </tr>\n",
       "    <tr>\n",
       "      <th>147</th>\n",
       "      <td>148</td>\n",
       "      <td>6.5</td>\n",
       "      <td>3.0</td>\n",
       "      <td>5.2</td>\n",
       "      <td>2.0</td>\n",
       "      <td>Iris-virginica</td>\n",
       "    </tr>\n",
       "    <tr>\n",
       "      <th>148</th>\n",
       "      <td>149</td>\n",
       "      <td>6.2</td>\n",
       "      <td>3.4</td>\n",
       "      <td>5.4</td>\n",
       "      <td>2.3</td>\n",
       "      <td>Iris-virginica</td>\n",
       "    </tr>\n",
       "    <tr>\n",
       "      <th>149</th>\n",
       "      <td>150</td>\n",
       "      <td>5.9</td>\n",
       "      <td>3.0</td>\n",
       "      <td>5.1</td>\n",
       "      <td>1.8</td>\n",
       "      <td>Iris-virginica</td>\n",
       "    </tr>\n",
       "  </tbody>\n",
       "</table>\n",
       "<p>150 rows × 6 columns</p>\n",
       "</div>"
      ],
      "text/plain": [
       "      Id  SepalLengthCm  ...  PetalWidthCm         Species\n",
       "0      1            5.1  ...           0.2     Iris-setosa\n",
       "1      2            4.9  ...           0.2     Iris-setosa\n",
       "2      3            4.7  ...           0.2     Iris-setosa\n",
       "3      4            4.6  ...           0.2     Iris-setosa\n",
       "4      5            5.0  ...           0.2     Iris-setosa\n",
       "..   ...            ...  ...           ...             ...\n",
       "145  146            6.7  ...           2.3  Iris-virginica\n",
       "146  147            6.3  ...           1.9  Iris-virginica\n",
       "147  148            6.5  ...           2.0  Iris-virginica\n",
       "148  149            6.2  ...           2.3  Iris-virginica\n",
       "149  150            5.9  ...           1.8  Iris-virginica\n",
       "\n",
       "[150 rows x 6 columns]"
      ]
     },
     "execution_count": 82,
     "metadata": {
      "tags": []
     },
     "output_type": "execute_result"
    }
   ],
   "source": [
    "# Importing \"Iris\" dataset\n",
    "dataset = pd.read_csv(\"Iris.csv\")\n",
    "dataset"
   ]
  },
  {
   "cell_type": "code",
   "execution_count": 83,
   "metadata": {
    "colab": {
     "base_uri": "https://localhost:8080/"
    },
    "id": "s6LJyKTbpUYM",
    "outputId": "67c98aff-9a19-4b03-93e0-e6fe467342f9"
   },
   "outputs": [
    {
     "data": {
      "text/plain": [
       "(150, 6)"
      ]
     },
     "execution_count": 83,
     "metadata": {
      "tags": []
     },
     "output_type": "execute_result"
    }
   ],
   "source": [
    "# Getting Number of Rows and Columns\n",
    "dataset.shape"
   ]
  },
  {
   "cell_type": "code",
   "execution_count": 84,
   "metadata": {
    "colab": {
     "base_uri": "https://localhost:8080/"
    },
    "id": "vtrSl99ZpZrO",
    "outputId": "95fdeee4-104c-4ba8-aad5-6eedde937166"
   },
   "outputs": [
    {
     "data": {
      "text/plain": [
       "Id               0\n",
       "SepalLengthCm    0\n",
       "SepalWidthCm     0\n",
       "PetalLengthCm    0\n",
       "PetalWidthCm     0\n",
       "Species          0\n",
       "dtype: int64"
      ]
     },
     "execution_count": 84,
     "metadata": {
      "tags": []
     },
     "output_type": "execute_result"
    }
   ],
   "source": [
    "# Checking for any NULL values\n",
    "dataset.isnull().sum()"
   ]
  },
  {
   "cell_type": "code",
   "execution_count": 85,
   "metadata": {
    "colab": {
     "base_uri": "https://localhost:8080/"
    },
    "id": "bq4Okrl3pbWF",
    "outputId": "5172bfa6-9977-4edc-d8b1-aa3971598eb1"
   },
   "outputs": [
    {
     "name": "stdout",
     "output_type": "stream",
     "text": [
      "<class 'pandas.core.frame.DataFrame'>\n",
      "RangeIndex: 150 entries, 0 to 149\n",
      "Data columns (total 6 columns):\n",
      " #   Column         Non-Null Count  Dtype  \n",
      "---  ------         --------------  -----  \n",
      " 0   Id             150 non-null    int64  \n",
      " 1   SepalLengthCm  150 non-null    float64\n",
      " 2   SepalWidthCm   150 non-null    float64\n",
      " 3   PetalLengthCm  150 non-null    float64\n",
      " 4   PetalWidthCm   150 non-null    float64\n",
      " 5   Species        150 non-null    object \n",
      "dtypes: float64(4), int64(1), object(1)\n",
      "memory usage: 7.2+ KB\n"
     ]
    }
   ],
   "source": [
    "# Overview of dataset scheme\n",
    "dataset.info()"
   ]
  },
  {
   "cell_type": "code",
   "execution_count": 86,
   "metadata": {
    "colab": {
     "base_uri": "https://localhost:8080/",
     "height": 300
    },
    "id": "d2ReGJr4pbke",
    "outputId": "4920f9da-ecf2-4e5f-ca30-0a55d3cd3cd0"
   },
   "outputs": [
    {
     "data": {
      "text/html": [
       "<div>\n",
       "<style scoped>\n",
       "    .dataframe tbody tr th:only-of-type {\n",
       "        vertical-align: middle;\n",
       "    }\n",
       "\n",
       "    .dataframe tbody tr th {\n",
       "        vertical-align: top;\n",
       "    }\n",
       "\n",
       "    .dataframe thead th {\n",
       "        text-align: right;\n",
       "    }\n",
       "</style>\n",
       "<table border=\"1\" class=\"dataframe\">\n",
       "  <thead>\n",
       "    <tr style=\"text-align: right;\">\n",
       "      <th></th>\n",
       "      <th>Id</th>\n",
       "      <th>SepalLengthCm</th>\n",
       "      <th>SepalWidthCm</th>\n",
       "      <th>PetalLengthCm</th>\n",
       "      <th>PetalWidthCm</th>\n",
       "    </tr>\n",
       "  </thead>\n",
       "  <tbody>\n",
       "    <tr>\n",
       "      <th>count</th>\n",
       "      <td>150.000000</td>\n",
       "      <td>150.000000</td>\n",
       "      <td>150.000000</td>\n",
       "      <td>150.000000</td>\n",
       "      <td>150.000000</td>\n",
       "    </tr>\n",
       "    <tr>\n",
       "      <th>mean</th>\n",
       "      <td>75.500000</td>\n",
       "      <td>5.843333</td>\n",
       "      <td>3.054000</td>\n",
       "      <td>3.758667</td>\n",
       "      <td>1.198667</td>\n",
       "    </tr>\n",
       "    <tr>\n",
       "      <th>std</th>\n",
       "      <td>43.445368</td>\n",
       "      <td>0.828066</td>\n",
       "      <td>0.433594</td>\n",
       "      <td>1.764420</td>\n",
       "      <td>0.763161</td>\n",
       "    </tr>\n",
       "    <tr>\n",
       "      <th>min</th>\n",
       "      <td>1.000000</td>\n",
       "      <td>4.300000</td>\n",
       "      <td>2.000000</td>\n",
       "      <td>1.000000</td>\n",
       "      <td>0.100000</td>\n",
       "    </tr>\n",
       "    <tr>\n",
       "      <th>25%</th>\n",
       "      <td>38.250000</td>\n",
       "      <td>5.100000</td>\n",
       "      <td>2.800000</td>\n",
       "      <td>1.600000</td>\n",
       "      <td>0.300000</td>\n",
       "    </tr>\n",
       "    <tr>\n",
       "      <th>50%</th>\n",
       "      <td>75.500000</td>\n",
       "      <td>5.800000</td>\n",
       "      <td>3.000000</td>\n",
       "      <td>4.350000</td>\n",
       "      <td>1.300000</td>\n",
       "    </tr>\n",
       "    <tr>\n",
       "      <th>75%</th>\n",
       "      <td>112.750000</td>\n",
       "      <td>6.400000</td>\n",
       "      <td>3.300000</td>\n",
       "      <td>5.100000</td>\n",
       "      <td>1.800000</td>\n",
       "    </tr>\n",
       "    <tr>\n",
       "      <th>max</th>\n",
       "      <td>150.000000</td>\n",
       "      <td>7.900000</td>\n",
       "      <td>4.400000</td>\n",
       "      <td>6.900000</td>\n",
       "      <td>2.500000</td>\n",
       "    </tr>\n",
       "  </tbody>\n",
       "</table>\n",
       "</div>"
      ],
      "text/plain": [
       "               Id  SepalLengthCm  SepalWidthCm  PetalLengthCm  PetalWidthCm\n",
       "count  150.000000     150.000000    150.000000     150.000000    150.000000\n",
       "mean    75.500000       5.843333      3.054000       3.758667      1.198667\n",
       "std     43.445368       0.828066      0.433594       1.764420      0.763161\n",
       "min      1.000000       4.300000      2.000000       1.000000      0.100000\n",
       "25%     38.250000       5.100000      2.800000       1.600000      0.300000\n",
       "50%     75.500000       5.800000      3.000000       4.350000      1.300000\n",
       "75%    112.750000       6.400000      3.300000       5.100000      1.800000\n",
       "max    150.000000       7.900000      4.400000       6.900000      2.500000"
      ]
     },
     "execution_count": 86,
     "metadata": {
      "tags": []
     },
     "output_type": "execute_result"
    }
   ],
   "source": [
    "# Statistical overview of dataset\n",
    "dataset.describe()"
   ]
  },
  {
   "cell_type": "code",
   "execution_count": 87,
   "metadata": {
    "colab": {
     "base_uri": "https://localhost:8080/"
    },
    "id": "NJVPeYMZpbte",
    "outputId": "22684188-4c7e-45c8-cb6e-1c433a8a6de6"
   },
   "outputs": [
    {
     "name": "stdout",
     "output_type": "stream",
     "text": [
      "Distinct Species:  ['Iris-setosa' 'Iris-versicolor' 'Iris-virginica']\n"
     ]
    }
   ],
   "source": [
    "# Information about all distinct species in dataset\n",
    "print(\"Distinct Species: \", dataset['Species'].unique())"
   ]
  },
  {
   "cell_type": "markdown",
   "metadata": {
    "id": "dGQpkAr3pvK3"
   },
   "source": [
    "### Visualizing the data"
   ]
  },
  {
   "cell_type": "code",
   "execution_count": 88,
   "metadata": {
    "colab": {
     "base_uri": "https://localhost:8080/",
     "height": 356
    },
    "id": "omImJ_SGpb6F",
    "outputId": "0d9dde1f-f711-47f9-dde0-59610934ce39"
   },
   "outputs": [
    {
     "data": {
      "text/plain": [
       "<matplotlib.axes._subplots.AxesSubplot at 0x7f4effe58210>"
      ]
     },
     "execution_count": 88,
     "metadata": {
      "tags": []
     },
     "output_type": "execute_result"
    },
    {
     "data": {
      "image/png": "[encoded data removed]",
      "text/plain": [
       "<Figure size 432x288 with 2 Axes>"
      ]
     },
     "metadata": {
      "needs_background": "light",
      "tags": []
     },
     "output_type": "display_data"
    }
   ],
   "source": [
    "# checking correlation of data\n",
    "core = dataset.corr()\n",
    "sns.heatmap(core,annot=True)"
   ]
  },
  {
   "cell_type": "markdown",
   "metadata": {
    "id": "qrANeIusp5k1"
   },
   "source": [
    "#### The below \"Box Plot\" graphs will show the comparision between:\n",
    "##### 1. Petal Length and Sepal Length\n",
    "##### 2. Petal Width and Sepal Width\n",
    "#### On the basis of different species"
   ]
  },
  {
   "cell_type": "code",
   "execution_count": 89,
   "metadata": {
    "colab": {
     "base_uri": "https://localhost:8080/",
     "height": 295
    },
    "id": "8LpFnMGOpb_e",
    "outputId": "e587c7aa-693c-4d0b-e722-a56299acc802"
   },
   "outputs": [
    {
     "data": {
      "image/png": "[encoded data removed]",
      "text/plain": [
       "<Figure size 432x288 with 1 Axes>"
      ]
     },
     "metadata": {
      "needs_background": "light",
      "tags": []
     },
     "output_type": "display_data"
    }
   ],
   "source": [
    "# Petal Length\n",
    "sns.boxplot(y='PetalLengthCm' ,x='Species' ,data=dataset)\n",
    "plt.title('Petal Lengths (Species)')\n",
    "plt.show()"
   ]
  },
  {
   "cell_type": "code",
   "execution_count": 90,
   "metadata": {
    "colab": {
     "base_uri": "https://localhost:8080/",
     "height": 295
    },
    "id": "7BvBR33CpcEk",
    "outputId": "1e0e121b-13ec-44cf-a411-a01e894283e7"
   },
   "outputs": [
    {
     "data": {
      "image/png": "[encoded data removed]",
      "text/plain": [
       "<Figure size 432x288 with 1 Axes>"
      ]
     },
     "metadata": {
      "needs_background": "light",
      "tags": []
     },
     "output_type": "display_data"
    }
   ],
   "source": [
    "# Sepal Length\n",
    "sns.boxplot(y='SepalLengthCm' ,x='Species' ,data=dataset)\n",
    "plt.title('Sepal Lengths (Species)')\n",
    "plt.show()"
   ]
  },
  {
   "cell_type": "code",
   "execution_count": 91,
   "metadata": {
    "colab": {
     "base_uri": "https://localhost:8080/",
     "height": 295
    },
    "id": "gHrb0BghpcJs",
    "outputId": "1298aced-6ff3-41db-9a01-ce5a2d21c987"
   },
   "outputs": [
    {
     "data": {
      "image/png": "[encoded data removed]",
      "text/plain": [
       "<Figure size 432x288 with 1 Axes>"
      ]
     },
     "metadata": {
      "needs_background": "light",
      "tags": []
     },
     "output_type": "display_data"
    }
   ],
   "source": [
    "# Petal Width\n",
    "sns.boxplot(y='PetalWidthCm' ,x='Species' ,data=dataset)\n",
    "plt.title('Petal Width (Species)')\n",
    "plt.show()"
   ]
  },
  {
   "cell_type": "code",
   "execution_count": 92,
   "metadata": {
    "colab": {
     "base_uri": "https://localhost:8080/",
     "height": 295
    },
    "id": "bodnPaUppcOz",
    "outputId": "6b08b2ba-fc28-4e85-97fe-9ffab517cd83"
   },
   "outputs": [
    {
     "data": {
      "image/png": "[encoded data removed]",
      "text/plain": [
       "<Figure size 432x288 with 1 Axes>"
      ]
     },
     "metadata": {
      "needs_background": "light",
      "tags": []
     },
     "output_type": "display_data"
    }
   ],
   "source": [
    "# Sepal Width\n",
    "sns.boxplot(y='SepalWidthCm' ,x='Species' ,data=dataset)\n",
    "plt.title('Sepal Width (Species)')\n",
    "plt.show()"
   ]
  },
  {
   "cell_type": "code",
   "execution_count": 92,
   "metadata": {
    "id": "YYbdFRlrpcTu"
   },
   "outputs": [],
   "source": []
  },
  {
   "cell_type": "markdown",
   "metadata": {
    "id": "JswGf-ArqUYI"
   },
   "source": [
    "#### K- Means Clustring"
   ]
  },
  {
   "cell_type": "code",
   "execution_count": 93,
   "metadata": {
    "colab": {
     "base_uri": "https://localhost:8080/",
     "height": 295
    },
    "id": "UxLZxPP4n783",
    "outputId": "e9145e6c-55b5-4809-cb2c-d1ff774e24fb"
   },
   "outputs": [
    {
     "data": {
      "image/png": "[encoded data removed]",
      "text/plain": [
       "<Figure size 432x288 with 1 Axes>"
      ]
     },
     "metadata": {
      "needs_background": "light",
      "tags": []
     },
     "output_type": "display_data"
    }
   ],
   "source": [
    "x = dataset.iloc[:, [1, 2, 3, 4]].values\n",
    "\n",
    "from sklearn.cluster import KMeans\n",
    "temp = []\n",
    "\n",
    "for i in range(1, 11):\n",
    "    kmeans = KMeans(n_clusters = i, init = 'k-means++', max_iter = 300, n_init = 10, random_state = 0)\n",
    "    kmeans.fit(x)\n",
    "    temp.append(kmeans.inertia_)\n",
    "\n",
    "\n",
    "# Plotting the results onto a line graph, \n",
    "# 'allowing us to observe 'The elbow'\n",
    "plt.plot(range(1, 11), temp)\n",
    "plt.title('Elbow Method')\n",
    "plt.xlabel('Number of Clusters',color= \"Purple\")\n",
    "plt.ylabel('Sum of Square', color=\"Blue\") # Within cluster sum of squares\n",
    "plt.show()"
   ]
  },
  {
   "cell_type": "code",
   "execution_count": 94,
   "metadata": {
    "colab": {
     "base_uri": "https://localhost:8080/"
    },
    "id": "WBat-7kZn_S5",
    "outputId": "6b3a8b54-45c8-49f5-ca0a-6636304059e7"
   },
   "outputs": [
    {
     "data": {
      "text/plain": [
       "array([1, 8, 8, 8, 1, 7, 8, 1, 8, 8, 7, 1, 8, 8, 7, 7, 7, 1, 7, 1, 1, 1,\n",
       "       8, 1, 1, 8, 1, 1, 1, 8, 8, 1, 7, 7, 8, 8, 1, 8, 8, 1, 1, 8, 8, 1,\n",
       "       1, 8, 1, 8, 1, 1, 6, 6, 6, 2, 6, 4, 6, 9, 6, 2, 9, 4, 2, 6, 2, 6,\n",
       "       4, 2, 6, 2, 3, 2, 3, 6, 6, 6, 6, 6, 6, 2, 2, 2, 2, 3, 4, 6, 6, 6,\n",
       "       4, 2, 4, 6, 2, 9, 4, 4, 4, 6, 9, 4, 5, 3, 0, 5, 5, 0, 4, 0, 5, 0,\n",
       "       5, 3, 5, 3, 3, 5, 5, 0, 0, 3, 5, 3, 0, 3, 5, 0, 3, 3, 5, 0, 0, 0,\n",
       "       5, 3, 3, 0, 5, 5, 3, 5, 5, 5, 3, 5, 5, 5, 3, 5, 5, 3], dtype=int32)"
      ]
     },
     "execution_count": 94,
     "metadata": {
      "tags": []
     },
     "output_type": "execute_result"
    }
   ],
   "source": [
    "x1 = KMeans(n_clusters = i, init = 'k-means++', max_iter = 300, n_init = 10, random_state = 0)\n",
    "y = x1.fit_predict(x)\n",
    "y"
   ]
  },
  {
   "cell_type": "code",
   "execution_count": 95,
   "metadata": {
    "colab": {
     "base_uri": "https://localhost:8080/",
     "height": 281
    },
    "id": "NARg9-I_oDVU",
    "outputId": "7407d9aa-bae3-4c0b-911d-1fc59a8f6a12"
   },
   "outputs": [
    {
     "data": {
      "image/png": "[encoded data removed]",
      "text/plain": [
       "<Figure size 432x288 with 1 Axes>"
      ]
     },
     "metadata": {
      "needs_background": "light",
      "tags": []
     },
     "output_type": "display_data"
    }
   ],
   "source": [
    "#using scatter plot to see clusters and centroids \n",
    "\n",
    "plt.scatter(x[y == 0,0], x[y == 0,1], s = 80,c = 'red',label = 'Iris-setosa')\n",
    "plt.scatter(x[y == 1,0], x[y == 1,1], s = 80,c = 'green',label = 'Iris-versicolor')\n",
    "plt.scatter(x[y == 2,0], x[y == 2,1], s = 80,c = 'blue',label = 'Iris-virginica')\n",
    "plt.scatter(x1.cluster_centers_[:,0], x1.cluster_centers_[:,1],s = 150, c = 'gold',label = 'Centroids')\n",
    "plt.legend()\n",
    "plt.title(\"Cluster of Species\")\n",
    "plt.show()"
   ]
  },
  {
   "cell_type": "code",
   "execution_count": 96,
   "metadata": {
    "colab": {
     "base_uri": "https://localhost:8080/"
    },
    "id": "joriGSOOoF6H",
    "outputId": "6bd157f0-a207-48b1-d4b8-1af97a681931"
   },
   "outputs": [
    {
     "data": {
      "text/plain": [
       "KMeans(algorithm='auto', copy_x=True, init='k-means++', max_iter=300,\n",
       "       n_clusters=10, n_init=10, n_jobs=None, precompute_distances='auto',\n",
       "       random_state=0, tol=0.0001, verbose=0)"
      ]
     },
     "execution_count": 96,
     "metadata": {
      "tags": []
     },
     "output_type": "execute_result"
    }
   ],
   "source": [
    "kModel = kmeans.fit(x)\n",
    "kModel"
   ]
  },
  {
   "cell_type": "code",
   "execution_count": 97,
   "metadata": {
    "colab": {
     "base_uri": "https://localhost:8080/"
    },
    "id": "pjfkAsSeoYte",
    "outputId": "915a570f-b2a1-4277-d77d-a9b04bd33da8"
   },
   "outputs": [
    {
     "data": {
      "text/plain": [
       "array([1, 8, 8, 8, 1, 7, 8, 1, 8, 8, 7, 1, 8, 8, 7, 7, 7, 1, 7, 1, 1, 1,\n",
       "       8, 1, 1, 8, 1, 1, 1, 8, 8, 1, 7, 7, 8, 8, 1, 8, 8, 1, 1, 8, 8, 1,\n",
       "       1, 8, 1, 8, 1, 1, 6, 6, 6, 2, 6, 4, 6, 9, 6, 2, 9, 4, 2, 6, 2, 6,\n",
       "       4, 2, 6, 2, 3, 2, 3, 6, 6, 6, 6, 6, 6, 2, 2, 2, 2, 3, 4, 6, 6, 6,\n",
       "       4, 2, 4, 6, 2, 9, 4, 4, 4, 6, 9, 4, 5, 3, 0, 5, 5, 0, 4, 0, 5, 0,\n",
       "       5, 3, 5, 3, 3, 5, 5, 0, 0, 3, 5, 3, 0, 3, 5, 0, 3, 3, 5, 0, 0, 0,\n",
       "       5, 3, 3, 0, 5, 5, 3, 5, 5, 5, 3, 5, 5, 5, 3, 5, 5, 3], dtype=int32)"
      ]
     },
     "execution_count": 97,
     "metadata": {
      "tags": []
     },
     "output_type": "execute_result"
    }
   ],
   "source": [
    "kModel.labels_"
   ]
  },
  {
   "cell_type": "code",
   "execution_count": 98,
   "metadata": {
    "colab": {
     "base_uri": "https://localhost:8080/"
    },
    "id": "cKnS4uZ9obBL",
    "outputId": "55a0083d-b3bd-473d-e5db-03c23c00085c"
   },
   "outputs": [
    {
     "data": {
      "text/plain": [
       "array([[7.475     , 3.125     , 6.3       , 2.05      ],\n",
       "       [5.10909091, 3.50909091, 1.53181818, 0.28181818],\n",
       "       [5.66153846, 2.56153846, 3.87692308, 1.16923077],\n",
       "       [6.02777778, 2.73333333, 5.02777778, 1.79444444],\n",
       "       [5.57272727, 2.84545455, 4.30909091, 1.37272727],\n",
       "       [6.56818182, 3.08636364, 5.53636364, 2.16363636],\n",
       "       [6.43      , 2.94      , 4.59      , 1.435     ],\n",
       "       [5.5125    , 4.        , 1.475     , 0.275     ],\n",
       "       [4.69      , 3.085     , 1.385     , 0.19      ],\n",
       "       [5.        , 2.3       , 3.275     , 1.025     ]])"
      ]
     },
     "execution_count": 98,
     "metadata": {
      "tags": []
     },
     "output_type": "execute_result"
    }
   ],
   "source": [
    "kModel.cluster_centers_"
   ]
  },
  {
   "cell_type": "markdown",
   "metadata": {
    "id": "5APHsD9dvNhL"
   },
   "source": [
    "### Thank You"
   ]
  },
  {
   "cell_type": "code",
   "execution_count": 98,
   "metadata": {
    "id": "amSFE0ndvQKX"
   },
   "outputs": [],
   "source": []
  }
 ],
 "metadata": {
  "colab": {
   "name": "Untitled0.ipynb",
   "provenance": [],
   "toc_visible": true
  },
  "kernelspec": {
   "display_name": "Python 3",
   "language": "python",
   "name": "python3"
  },
  "language_info": {
   "codemirror_mode": {
    "name": "ipython",
    "version": 3
   },
   "file_extension": ".py",
   "mimetype": "text/x-python",
   "name": "python",
   "nbconvert_exporter": "python",
   "pygments_lexer": "ipython3",
   "version": "3.8.8"
  }
 },
 "nbformat": 4,
 "nbformat_minor": 1
}
